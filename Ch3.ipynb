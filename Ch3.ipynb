{
 "cells": [
  {
   "cell_type": "markdown",
   "id": "c612b4cb",
   "metadata": {},
   "source": [
    "# Ch3 Homework Step1 - Web Scrawler & HTML web page analysis"
   ]
  },
  {
   "cell_type": "markdown",
   "id": "26a0a028",
   "metadata": {},
   "source": [
    "## 3-1 Web Scrawler & URL"
   ]
  },
  {
   "cell_type": "markdown",
   "id": "db2b6319",
   "metadata": {},
   "source": [
    "### 3-1-1 Basic\n",
    "Web scraping or Web Data Extraction is an skill to extract data, from web, comunicate with web resource, extract data & arrabge it & tranform to the format we want"
   ]
  },
  {
   "cell_type": "markdown",
   "id": "d3dfb428",
   "metadata": {},
   "source": [
    "### Web scraping\n",
    "1. Normally, web site's contents structure are not well it's because it's from relational data base\n",
    "2. Web scraping it's extract these data into structural data."
   ]
  },
  {
   "cell_type": "code",
   "execution_count": 2,
   "id": "e6e56e7e",
   "metadata": {},
   "outputs": [
    {
     "ename": "NameError",
     "evalue": "name '圖' is not defined",
     "output_type": "error",
     "traceback": [
      "\u001b[1;31m---------------------------------------------------------------------------\u001b[0m",
      "\u001b[1;31mNameError\u001b[0m                                 Traceback (most recent call last)",
      "\u001b[1;32m~\\AppData\\Local\\Temp\\ipykernel_16988\\793357806.py\u001b[0m in \u001b[0;36m<module>\u001b[1;34m\u001b[0m\n\u001b[1;32m----> 1\u001b[1;33m \u001b[0m圖\u001b[0m\u001b[1;33m\u001b[0m\u001b[1;33m\u001b[0m\u001b[0m\n\u001b[0m",
      "\u001b[1;31mNameError\u001b[0m: name '圖' is not defined"
     ]
    }
   ],
   "source": [
    "圖\n"
   ]
  },
  {
   "cell_type": "markdown",
   "id": "6ff888a1",
   "metadata": {},
   "source": [
    "### Basic Knowledge - HTTP\n",
    "1. Browser & python web scraping are using HTTP sending its GET request to get the HTML resource.\n"
   ]
  },
  {
   "cell_type": "code",
   "execution_count": 3,
   "id": "3c781bf2",
   "metadata": {},
   "outputs": [
    {
     "ename": "NameError",
     "evalue": "name '圖' is not defined",
     "output_type": "error",
     "traceback": [
      "\u001b[1;31m---------------------------------------------------------------------------\u001b[0m",
      "\u001b[1;31mNameError\u001b[0m                                 Traceback (most recent call last)",
      "\u001b[1;32m~\\AppData\\Local\\Temp\\ipykernel_16988\\793357806.py\u001b[0m in \u001b[0;36m<module>\u001b[1;34m\u001b[0m\n\u001b[1;32m----> 1\u001b[1;33m \u001b[0m圖\u001b[0m\u001b[1;33m\u001b[0m\u001b[1;33m\u001b[0m\u001b[0m\n\u001b[0m",
      "\u001b[1;31mNameError\u001b[0m: name '圖' is not defined"
     ]
    }
   ],
   "source": [
    "圖\n"
   ]
  },
  {
   "cell_type": "markdown",
   "id": "a5d869de",
   "metadata": {},
   "source": [
    "2. Python scraping is mock the behavior that we use broser to brose the internet"
   ]
  },
  {
   "cell_type": "markdown",
   "id": "d289fcde",
   "metadata": {},
   "source": [
    "### 3-1-2 Parse URL"
   ]
  },
  {
   "cell_type": "code",
   "execution_count": 4,
   "id": "40e4c1f0",
   "metadata": {},
   "outputs": [
    {
     "ename": "NameError",
     "evalue": "name '圖' is not defined",
     "output_type": "error",
     "traceback": [
      "\u001b[1;31m---------------------------------------------------------------------------\u001b[0m",
      "\u001b[1;31mNameError\u001b[0m                                 Traceback (most recent call last)",
      "\u001b[1;32m~\\AppData\\Local\\Temp\\ipykernel_16988\\3993970807.py\u001b[0m in \u001b[0;36m<module>\u001b[1;34m\u001b[0m\n\u001b[1;32m----> 1\u001b[1;33m \u001b[0m圖\u001b[0m\u001b[1;33m\u001b[0m\u001b[1;33m\u001b[0m\u001b[0m\n\u001b[0m",
      "\u001b[1;31mNameError\u001b[0m: name '圖' is not defined"
     ]
    }
   ],
   "source": [
    "圖"
   ]
  },
  {
   "cell_type": "code",
   "execution_count": 5,
   "id": "74aa6b5c",
   "metadata": {},
   "outputs": [
    {
     "name": "stdout",
     "output_type": "stream",
     "text": [
      "通訊協定:  http\n",
      "網域名稱:  www.example.com:80\n",
      "通訊埠號:  80\n",
      "網頁路徑:  /test/index.php\n",
      "查詢字串:  user=joe\n"
     ]
    }
   ],
   "source": [
    "# ex, use Python's urlParse\n",
    "from urllib.parse import urlparse\n",
    " \n",
    "o = urlparse(\"http://www.example.com:80/test/index.php?user=joe\")\n",
    "print(\"通訊協定: \", o.scheme)\n",
    "print(\"網域名稱: \", o.netloc)\n",
    "print(\"通訊埠號: \", o.port)\n",
    "print(\"網頁路徑: \", o.path)\n",
    "print(\"查詢字串: \", o.query)\n",
    "\n",
    "\n",
    "\n"
   ]
  },
  {
   "cell_type": "markdown",
   "id": "1caf6bb8",
   "metadata": {},
   "source": [
    "### 3-1-3 Web brose structure - Looking for next page"
   ]
  },
  {
   "cell_type": "code",
   "execution_count": 6,
   "id": "dc9def94",
   "metadata": {},
   "outputs": [
    {
     "ename": "NameError",
     "evalue": "name '圖' is not defined",
     "output_type": "error",
     "traceback": [
      "\u001b[1;31m---------------------------------------------------------------------------\u001b[0m",
      "\u001b[1;31mNameError\u001b[0m                                 Traceback (most recent call last)",
      "\u001b[1;32m~\\AppData\\Local\\Temp\\ipykernel_16988\\3993970807.py\u001b[0m in \u001b[0;36m<module>\u001b[1;34m\u001b[0m\n\u001b[1;32m----> 1\u001b[1;33m \u001b[0m圖\u001b[0m\u001b[1;33m\u001b[0m\u001b[1;33m\u001b[0m\u001b[0m\n\u001b[0m",
      "\u001b[1;31mNameError\u001b[0m: name '圖' is not defined"
     ]
    }
   ],
   "source": [
    "圖"
   ]
  },
  {
   "cell_type": "markdown",
   "id": "cca54925",
   "metadata": {},
   "source": [
    "### 階層選單的導覽結構 - Navigation structure of the hierarchical menu\n",
    "1. 清單與詳細巡覽 - 使用hyperlink建立巡覽結構"
   ]
  },
  {
   "cell_type": "code",
   "execution_count": 8,
   "id": "164f8a64",
   "metadata": {},
   "outputs": [
    {
     "ename": "NameError",
     "evalue": "name '圖' is not defined",
     "output_type": "error",
     "traceback": [
      "\u001b[1;31m---------------------------------------------------------------------------\u001b[0m",
      "\u001b[1;31mNameError\u001b[0m                                 Traceback (most recent call last)",
      "\u001b[1;32m~\\AppData\\Local\\Temp\\ipykernel_16988\\3993970807.py\u001b[0m in \u001b[0;36m<module>\u001b[1;34m\u001b[0m\n\u001b[1;32m----> 1\u001b[1;33m \u001b[0m圖\u001b[0m\u001b[1;33m\u001b[0m\u001b[1;33m\u001b[0m\u001b[0m\n\u001b[0m",
      "\u001b[1;31mNameError\u001b[0m: name '圖' is not defined"
     ]
    }
   ],
   "source": [
    "圖"
   ]
  },
  {
   "cell_type": "markdown",
   "id": "9fc2a844",
   "metadata": {},
   "source": [
    "###### 2. 階層選單巡覽"
   ]
  },
  {
   "cell_type": "code",
   "execution_count": 9,
   "id": "d01dc448",
   "metadata": {},
   "outputs": [
    {
     "ename": "NameError",
     "evalue": "name '圖' is not defined",
     "output_type": "error",
     "traceback": [
      "\u001b[1;31m---------------------------------------------------------------------------\u001b[0m",
      "\u001b[1;31mNameError\u001b[0m                                 Traceback (most recent call last)",
      "\u001b[1;32m~\\AppData\\Local\\Temp\\ipykernel_16988\\3993970807.py\u001b[0m in \u001b[0;36m<module>\u001b[1;34m\u001b[0m\n\u001b[1;32m----> 1\u001b[1;33m \u001b[0m圖\u001b[0m\u001b[1;33m\u001b[0m\u001b[1;33m\u001b[0m\u001b[0m\n\u001b[0m",
      "\u001b[1;31mNameError\u001b[0m: name '圖' is not defined"
     ]
    }
   ],
   "source": [
    "圖"
   ]
  },
  {
   "cell_type": "markdown",
   "id": "2d78af3e",
   "metadata": {},
   "source": [
    "### 分頁的巡覽結構\n",
    "1. 上/下頁巡覽"
   ]
  },
  {
   "cell_type": "code",
   "execution_count": 10,
   "id": "4ffcf7d0",
   "metadata": {},
   "outputs": [
    {
     "ename": "NameError",
     "evalue": "name '圖' is not defined",
     "output_type": "error",
     "traceback": [
      "\u001b[1;31m---------------------------------------------------------------------------\u001b[0m",
      "\u001b[1;31mNameError\u001b[0m                                 Traceback (most recent call last)",
      "\u001b[1;32m~\\AppData\\Local\\Temp\\ipykernel_16988\\3993970807.py\u001b[0m in \u001b[0;36m<module>\u001b[1;34m\u001b[0m\n\u001b[1;32m----> 1\u001b[1;33m \u001b[0m圖\u001b[0m\u001b[1;33m\u001b[0m\u001b[1;33m\u001b[0m\u001b[0m\n\u001b[0m",
      "\u001b[1;31mNameError\u001b[0m: name '圖' is not defined"
     ]
    }
   ],
   "source": [
    "圖"
   ]
  },
  {
   "cell_type": "markdown",
   "id": "04dd5a3f",
   "metadata": {},
   "source": [
    "2. \"載入更多\" 按鈕"
   ]
  },
  {
   "cell_type": "code",
   "execution_count": 12,
   "id": "f22df769",
   "metadata": {},
   "outputs": [
    {
     "ename": "NameError",
     "evalue": "name '圖' is not defined",
     "output_type": "error",
     "traceback": [
      "\u001b[1;31m---------------------------------------------------------------------------\u001b[0m",
      "\u001b[1;31mNameError\u001b[0m                                 Traceback (most recent call last)",
      "\u001b[1;32m~\\AppData\\Local\\Temp\\ipykernel_16988\\3993970807.py\u001b[0m in \u001b[0;36m<module>\u001b[1;34m\u001b[0m\n\u001b[1;32m----> 1\u001b[1;33m \u001b[0m圖\u001b[0m\u001b[1;33m\u001b[0m\u001b[1;33m\u001b[0m\u001b[0m\n\u001b[0m",
      "\u001b[1;31mNameError\u001b[0m: name '圖' is not defined"
     ]
    }
   ],
   "source": [
    "圖"
   ]
  },
  {
   "cell_type": "markdown",
   "id": "de6adcd0",
   "metadata": {},
   "source": [
    "3. 無限捲動頁面巡覽"
   ]
  },
  {
   "cell_type": "code",
   "execution_count": null,
   "id": "2727a683",
   "metadata": {},
   "outputs": [],
   "source": []
  }
 ],
 "metadata": {
  "kernelspec": {
   "display_name": "Python 3 (ipykernel)",
   "language": "python",
   "name": "python3"
  },
  "language_info": {
   "codemirror_mode": {
    "name": "ipython",
    "version": 3
   },
   "file_extension": ".py",
   "mimetype": "text/x-python",
   "name": "python",
   "nbconvert_exporter": "python",
   "pygments_lexer": "ipython3",
   "version": "3.7.8"
  }
 },
 "nbformat": 4,
 "nbformat_minor": 5
}
